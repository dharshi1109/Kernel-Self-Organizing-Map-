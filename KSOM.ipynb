{
 "cells": [
  {
   "cell_type": "code",
   "execution_count": 16,
   "metadata": {},
   "outputs": [
    {
     "name": "stdout",
     "output_type": "stream",
     "text": [
      "cluster 1 weight updates\n",
      "tensor([0.2000, 0.4000, 0.6000, 0.8000])\n",
      "updated weights clusters is  [tensor([0.1000]), tensor([0.2000]), tensor([0.8000]), tensor([0.9000])]\n",
      "cluster 1 weight updates\n",
      "tensor([0.1000, 0.2000, 0.8000, 0.9000])\n",
      "updated weights clusters is  [tensor([0.5500]), tensor([0.1000]), tensor([0.4000]), tensor([0.4500])]\n",
      "cluster 1 weight updates\n",
      "tensor([0.5500, 0.1000, 0.4000, 0.4500])\n",
      "updated weights clusters is  [tensor([0.2750]), tensor([0.5500]), tensor([0.7000]), tensor([0.2250])]\n",
      "cluster 1 weight updates\n",
      "tensor([0.2750, 0.5500, 0.7000, 0.2250])\n",
      "updated weights clusters is  [tensor([0.1375]), tensor([0.2750]), tensor([0.3500]), tensor([0.6125])]\n",
      "cluster 1 weight updates\n",
      "tensor([0.1375, 0.2750, 0.3500, 0.6125])\n",
      "updated weights clusters is  [tensor([0.1031]), tensor([0.2063]), tensor([0.5125]), tensor([0.7094])]\n",
      "cluster 1 weight updates\n",
      "tensor([0.1031, 0.2063, 0.5125, 0.7094])\n",
      "updated weights clusters is  [tensor([0.3273]), tensor([0.1547]), tensor([0.3844]), tensor([0.5320])]\n",
      "cluster 1 weight updates\n",
      "tensor([0.3273, 0.1547, 0.3844, 0.5320])\n",
      "updated weights clusters is  [tensor([0.2455]), tensor([0.3660]), tensor([0.5383]), tensor([0.3990])]\n",
      "cluster 1 weight updates\n",
      "tensor([0.2455, 0.3660, 0.5383, 0.3990])\n",
      "updated weights clusters is  [tensor([0.1841]), tensor([0.2745]), tensor([0.4037]), tensor([0.5493])]\n",
      "cluster 1 weight updates\n",
      "tensor([0.1841, 0.2745, 0.4037, 0.5493])\n",
      "updated weights clusters is  [tensor([0.1611]), tensor([0.2402]), tensor([0.4782]), tensor([0.6056])]\n",
      "cluster 1 weight updates\n",
      "tensor([0.1611, 0.2402, 0.4782, 0.6056])\n",
      "updated weights clusters is  [tensor([0.2660]), tensor([0.2102]), tensor([0.4185]), tensor([0.5299])]\n",
      "cluster 1 weight updates\n",
      "tensor([0.2660, 0.2102, 0.4185, 0.5299])\n",
      "updated weights clusters is  [tensor([0.2327]), tensor([0.3089]), tensor([0.4912]), tensor([0.4637])]\n",
      "cluster 1 weight updates\n",
      "tensor([0.2327, 0.3089, 0.4912, 0.4637])\n",
      "updated weights clusters is  [tensor([0.2036]), tensor([0.2703]), tensor([0.4298]), tensor([0.5307])]\n",
      "cluster 1 weight updates\n",
      "tensor([0.2036, 0.2703, 0.4298, 0.5307])\n",
      "updated weights clusters is  [tensor([0.1909]), tensor([0.2534]), tensor([0.4654]), tensor([0.5600])]\n",
      "cluster 1 weight updates\n",
      "tensor([0.1909, 0.2534, 0.4654, 0.5600])\n",
      "updated weights clusters is  [tensor([0.2415]), tensor([0.2376]), tensor([0.4363]), tensor([0.5250])]\n",
      "cluster 1 weight updates\n",
      "tensor([0.2415, 0.2376, 0.4363, 0.5250])\n",
      "updated weights clusters is  [tensor([0.2264]), tensor([0.2852]), tensor([0.4715]), tensor([0.4922])]\n",
      "cluster 1 weight updates\n",
      "tensor([0.2264, 0.2852, 0.4715, 0.4922])\n",
      "updated weights clusters is  [tensor([0.2122]), tensor([0.2674]), tensor([0.4421]), tensor([0.5240])]\n",
      "cluster 1 weight updates\n",
      "tensor([0.2122, 0.2674, 0.4421, 0.5240])\n",
      "updated weights clusters is  [tensor([0.2056]), tensor([0.2590]), tensor([0.4595]), tensor([0.5388])]\n",
      "cluster 1 weight updates\n",
      "tensor([0.2056, 0.2590, 0.4595, 0.5388])\n",
      "updated weights clusters is  [tensor([0.2304]), tensor([0.2509]), tensor([0.4451]), tensor([0.5220])]\n",
      "cluster 1 weight updates\n",
      "tensor([0.2304, 0.2509, 0.4451, 0.5220])\n",
      "updated weights clusters is  [tensor([0.2232]), tensor([0.2743]), tensor([0.4625]), tensor([0.5057])]\n",
      "cluster 1 weight updates\n",
      "tensor([0.2232, 0.2743, 0.4625, 0.5057])\n",
      "updated weights clusters is  [tensor([0.2163]), tensor([0.2658]), tensor([0.4480]), tensor([0.5211])]\n",
      "final updated weights  tensor([[0.2163, 0.2658, 0.4480, 0.5211],\n",
      "        [0.9000, 0.7000, 0.5000, 0.3000]])\n"
     ]
    }
   ],
   "source": [
    "import torch\n",
    "alpha=0.5\n",
    "t1=torch.Tensor([[[0],[0],[1],[1]],[[1],[0],[0],[0]],[[0],[1],[1],[0]],[[0],[0],[0],[1]]])\n",
    "w=torch.Tensor([[0.2,0.4,0.6,0.8],[0.9,0.7,0.5,0.3]])\n",
    "def updateweights(a,b):\n",
    "    w=[]\n",
    "    for i in range(len(a)):\n",
    "        w.append(a[i]+alpha*(b[i]-a[i]))\n",
    "    print(\"updated weights clusters is \",w)\n",
    "    w1 = torch.tensor(w)\n",
    "    return w1\n",
    "for f in range(5):\n",
    "    for i in t1:\n",
    "        d=[]\n",
    "        for j in i:\n",
    "            sum=0\n",
    "            for (x,y) in zip(i,j):\n",
    "                a=x-y\n",
    "                b=a**2\n",
    "                sum+=b\n",
    "            d.append(sum)\n",
    "        if(d[0]>d[1]):\n",
    "            print(\"cluster 2 weight updates\")\n",
    "            w[1]=updateweights(w[1],i)\n",
    "        else:\n",
    "            print(\"cluster 1 weight updates\")\n",
    "            print(w[0])\n",
    "            w[0]=updateweights(w[0],i)\n",
    "    alpha=alpha/2\n",
    "print(\"final updated weights \",w)\n",
    "\n",
    "        "
   ]
  },
  {
   "cell_type": "code",
   "execution_count": 1,
   "metadata": {},
   "outputs": [],
   "source": [
    "import torch\n",
    "import torch.nn as nn\n",
    "import torch.nn.functional as F\n",
    "from torchvision import datasets, transforms\n",
    "from torch.utils.data import DataLoader\n",
    "from PIL import Image\n",
    "import matplotlib.pyplot as plt\n",
    "from torch.utils.data import Dataset,DataLoader,random_split"
   ]
  },
  {
   "cell_type": "code",
   "execution_count": 3,
   "metadata": {},
   "outputs": [],
   "source": [
    "class KSOM(nn.Module):\n",
    "    def __init__(self, input_size, output_size, sigma=1.0):\n",
    "        super(KSOM, self).__init__()\n",
    "        self.input_size = input_size\n",
    "        self.output_size = output_size\n",
    "        self.sigma = sigma\n",
    "        self.weights = nn.Parameter(torch.randn(output_size, input_size) * 0.01)\n",
    "\n",
    "    def forward(self, x):\n",
    "        dist_to_winner = torch.cdist(x, self.weights) \n",
    "        neighbors = torch.exp(-dist_to_winner / (2 * self.sigma ** 2))\n",
    "        return neighbors\n"
   ]
  },
  {
   "cell_type": "code",
   "execution_count": 4,
   "metadata": {},
   "outputs": [],
   "source": [
    "def classify(input_data, som):\n",
    "    neighbors = som(input_data)\n",
    "    _, indices = torch.max(neighbors, dim=1)\n",
    "    return indices"
   ]
  },
  {
   "cell_type": "code",
   "execution_count": 5,
   "metadata": {},
   "outputs": [],
   "source": [
    "class CustomDataset(Dataset):\n",
    "    def __init__(self,root_dir,transform=None):\n",
    "        self.root_dir=root_dir\n",
    "        self.transform=transform\n",
    "        self.file_paths=[]\n",
    "        self.class_names=sorted(os.listdir(root_dir))\n",
    "\n",
    "        for class_name in self.class_names:\n",
    "            class_path=os.path.join(self.root_dir,class_name)\n",
    "            files=[os.path.join(class_path, file) for file in os.listdir(class_path)]\n",
    "            self.file_paths.extend(files)\n",
    "\n",
    "    def __len__(self):\n",
    "        return len(self.file_paths)\n",
    "\n",
    "    def __getitem__(self,idx):\n",
    "        img_path=self.file_paths[idx]\n",
    "        image=Image.open(img_path)\n",
    "\n",
    "        if self.transform:\n",
    "            image=self.transform(image)\n",
    "\n",
    "        class_name=os.path.basename(os.path.dirname(img_path))\n",
    "        label_idx=torch.tensor(self.class_names.index(class_name),dtype=torch.long)\n",
    "\n",
    "        return image,label_idx,class_name"
   ]
  },
  {
   "cell_type": "code",
   "execution_count": 9,
   "metadata": {},
   "outputs": [],
   "source": [
    "import os\n",
    "transform=transforms.Compose([transforms.Resize((256,256)),transforms.ToTensor()])\n",
    "dataset=CustomDataset(root_dir=r\"D:\\documents\\datasets\\plants\\Bell Pepper\\Train\",transform=transform)\n",
    "train_size=int(0.8*len(dataset))\n",
    "test_size=len(dataset)-train_size\n",
    "train_dataset,test_dataset=random_split(dataset,[train_size,test_size])\n",
    "train_loader=DataLoader(train_dataset,batch_size=32,shuffle=True)\n",
    "batch_size = 100\n",
    "input_size=3*256*256\n",
    "output_size=2\n",
    "sigma=1\n",
    "test_loader=DataLoader(test_dataset,batch_size=32,shuffle=True)"
   ]
  },
  {
   "cell_type": "code",
   "execution_count": 10,
   "metadata": {},
   "outputs": [
    {
     "name": "stdout",
     "output_type": "stream",
     "text": [
      "Epoch 1, Loss: 0.6931473016738892\n",
      "Epoch 2, Loss: 0.6931473016738892\n",
      "Epoch 3, Loss: 0.6931473016738892\n",
      "Epoch 4, Loss: 0.6931473016738892\n",
      "Epoch 5, Loss: 0.6931473016738892\n",
      "Epoch 6, Loss: 0.6931473016738892\n",
      "Epoch 7, Loss: 0.6931473016738892\n",
      "Epoch 8, Loss: 0.6931473016738892\n",
      "Epoch 9, Loss: 0.6931473016738892\n",
      "Epoch 10, Loss: 0.6931473016738892\n",
      "Epoch 1, Loss: 0.6931472992897034\n",
      "Epoch 2, Loss: 0.6931472992897034\n",
      "Epoch 3, Loss: 0.6931472992897034\n",
      "Epoch 4, Loss: 0.6931472992897034\n",
      "Epoch 5, Loss: 0.6931472992897034\n",
      "Epoch 6, Loss: 0.6931472992897034\n",
      "Epoch 7, Loss: 0.6931472992897034\n",
      "Epoch 8, Loss: 0.6931472992897034\n",
      "Epoch 9, Loss: 0.6931472992897034\n",
      "Epoch 10, Loss: 0.6931472992897034\n"
     ]
    }
   ],
   "source": [
    "som = KSOM(input_size, output_size, sigma)\n",
    "epochs = 10\n",
    "lr = 0.1 \n",
    "losses=[]\n",
    "losses1=[]\n",
    "criterion = nn.CrossEntropyLoss()\n",
    "optimizer = torch.optim.SGD(som.parameters(), lr=lr)\n",
    "for epoch in range(epochs):\n",
    "    running_loss = 0.0\n",
    "    for images,labels, label in train_loader:\n",
    "        images = images.view(-1,3*256*256 )  \n",
    "        optimizer.zero_grad()\n",
    "        outputs = som(images)\n",
    "        loss = criterion(outputs, labels)\n",
    "        loss.backward()\n",
    "        optimizer.step()\n",
    "        running_loss += loss.item()\n",
    "    print(f\"Epoch {epoch+1}, Loss: {running_loss/len(train_loader)}\")\n",
    "    losses.append(running_loss/len(train_loader))\n",
    "for epoch in range(epochs):\n",
    "    running_loss = 0.0\n",
    "    with torch.no_grad():\n",
    "        for images, labels,label in test_loader:\n",
    "            images = images.view(-1, 3*256*256 )  \n",
    "            outputs = som(images)\n",
    "            loss = criterion(outputs, labels)\n",
    "            running_loss += loss.item()\n",
    "        print(f\"Epoch {epoch+1}, Loss: {running_loss/len(test_loader)}\")\n",
    "        losses1.append(running_loss/len(test_loader))\n"
   ]
  },
  {
   "cell_type": "code",
   "execution_count": 16,
   "metadata": {},
   "outputs": [
    {
     "data": {
      "image/png": "[encoded data removed]",
      "text/plain": [
       "<Figure size 640x480 with 1 Axes>"
      ]
     },
     "metadata": {},
     "output_type": "display_data"
    }
   ],
   "source": [
    "import matplotlib.pyplot as plt\n",
    "plt.plot(losses,label=\"Training loss\")\n",
    "plt.plot(losses1,label=\"Test loss\")\n",
    "plt.xlabel('epochs')\n",
    "plt.ylabel('loss')\n",
    "plt.legend()\n",
    "plt.show()"
   ]
  }
 ],
 "metadata": {
  "kernelspec": {
   "display_name": "Python 3",
   "language": "python",
   "name": "python3"
  },
  "language_info": {
   "codemirror_mode": {
    "name": "ipython",
    "version": 3
   },
   "file_extension": ".py",
   "mimetype": "text/x-python",
   "name": "python",
   "nbconvert_exporter": "python",
   "pygments_lexer": "ipython3",
   "version": "3.11.0"
  }
 },
 "nbformat": 4,
 "nbformat_minor": 2
}
